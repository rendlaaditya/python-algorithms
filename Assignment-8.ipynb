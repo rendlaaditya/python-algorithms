{
 "cells": [
  {
   "cell_type": "code",
   "execution_count": 1,
   "metadata": {},
   "outputs": [],
   "source": [
    "import numpy as np\n",
    "import pandas as pd\n",
    "import matplotlib.pyplot as plt\n",
    "from matplotlib import cm\n",
    "from sklearn.metrics import accuracy_score\n",
    "from sklearn.linear_model import LogisticRegression\n",
    "from sklearn.model_selection import train_test_split"
   ]
  },
  {
   "cell_type": "code",
   "execution_count": 2,
   "metadata": {},
   "outputs": [],
   "source": [
    "data=pd.read_csv('iris.csv')"
   ]
  },
  {
   "cell_type": "code",
   "execution_count": 3,
   "metadata": {
    "scrolled": true
   },
   "outputs": [],
   "source": [
    "X=data[['sepal length','petal width']]\n",
    "y=data['iris']\n",
    "c=[]\n",
    "for i in list(y):\n",
    "    if i=='Iris-setosa':\n",
    "        c=c+[1]\n",
    "    else:\n",
    "        c=c+[0]\n",
    "ynew=pd.DataFrame({'iris':c})\n",
    "# print(ynew)"
   ]
  },
  {
   "cell_type": "code",
   "execution_count": 4,
   "metadata": {},
   "outputs": [],
   "source": [
    "def sigmoid(x):\n",
    "    if type(x) is int or type(x) is float:\n",
    "        return 1 / (1 +  np.exp(-x))\n",
    "    elif type(x) is list:\n",
    "        for i in range(len(x)):\n",
    "            x[i]=1/(1+np.exp(-x[i]))\n",
    "        return x\n",
    "    elif type(x) is np.matrix or type(x) is np.array:\n",
    "        if type(x) is np.matrix:\n",
    "            ti=0\n",
    "        else:\n",
    "            ti=1\n",
    "        t=[]\n",
    "        if x.shape[1]==1:\n",
    "            for i in range(x.size):\n",
    "                t=t+[1/(1+np.exp(-x[i,0]))]\n",
    "            if ti==0:\n",
    "                return np.matrix(t).T\n",
    "            else:\n",
    "                return np.array(t)\n",
    "        elif x.shape[0]==1:\n",
    "            for i in range(x.size):\n",
    "                t=t+[1/(1+np.exp(-x[0,i]))]\n",
    "            if ti==0:\n",
    "                return np.matrix(t)\n",
    "            else:\n",
    "                return np.array(t)\n",
    "        else:\n",
    "            t=[]\n",
    "            for i in range(x.shape[0]):\n",
    "                tt=[]\n",
    "                for j in range(x.shape[1]):\n",
    "#                     print(x[i,j])\n",
    "#                     print(float(1/(1+np.exp(-x[i,j]))))\n",
    "                    tt+=[float(1/(1+np.exp(-x[i,j])))]\n",
    "#                     print(x[i,j])\n",
    "                t+=[tt]\n",
    "            return np.matrix(t)"
   ]
  },
  {
   "cell_type": "code",
   "execution_count": 6,
   "metadata": {},
   "outputs": [],
   "source": [
    "def sigmoid_derivative(x):\n",
    "    if type(x) is int or type(x) is float:\n",
    "        return np.exp(-x) / (1 +  np.exp(-x))**2\n",
    "    elif type(x) is list:\n",
    "        for i in range(len(x)):\n",
    "            x[i]=np.exp(-x[i]) / (1 +  np.exp(-x[i]))**2\n",
    "        return x\n",
    "    elif type(x) is np.matrix or type(x) is np.array:\n",
    "        if type(x) is np.matrix:\n",
    "            ti=0\n",
    "        else:\n",
    "            ti=1\n",
    "        t=[]\n",
    "        if x.shape[0]!=1:\n",
    "            for i in range(x.size):\n",
    "                t=t+[np.exp(-x[i,0]) / (1 +  np.exp(-x[i,0]))**2]\n",
    "            if ti==0:\n",
    "                return np.matrix(t).T\n",
    "            else:\n",
    "                return np.array(t)\n",
    "        else:\n",
    "            for i in range(x.size):\n",
    "                t=t+[np.exp(-x[0,i]) / (1 +  np.exp(-x[0,i]))**2]\n",
    "            if ti==0:\n",
    "                return np.matrix(t)\n",
    "            else:\n",
    "                return np.array(t)"
   ]
  },
  {
   "cell_type": "code",
   "execution_count": 7,
   "metadata": {},
   "outputs": [],
   "source": [
    "def relu_derivative(x):\n",
    "    if type(x) is int or type(x) is float:\n",
    "        if x<0:\n",
    "            return 0\n",
    "        elif x>0:\n",
    "            return 1\n",
    "    elif type(x) is list:\n",
    "        for i in range(len(x)):\n",
    "            if x[i]<0:\n",
    "                x[i]=0\n",
    "            elif x[i]>0:\n",
    "                x[i]=1\n",
    "        return x\n",
    "    elif type(x) is np.matrix :\n",
    "        x=np.multiply(x,x>0)\n",
    "        return x"
   ]
  },
  {
   "cell_type": "code",
   "execution_count": 8,
   "metadata": {},
   "outputs": [],
   "source": [
    "def linear_derivative(x):\n",
    "    if type(x) is int or type(x) is float:\n",
    "        if x<0:\n",
    "            return 1\n",
    "        elif x>0:\n",
    "            return 1\n",
    "    elif type(x) is list:\n",
    "        for i in range(len(x)):\n",
    "                x[i]=1\n",
    "        return x\n",
    "    elif type(x) is np.matrix :\n",
    "        for i in range(x.shape[0]):\n",
    "            for j in range(x.shape[1]):\n",
    "                x[i,j]=1\n",
    "        return x"
   ]
  },
  {
   "cell_type": "code",
   "execution_count": 9,
   "metadata": {},
   "outputs": [],
   "source": [
    "def relu(x):\n",
    "    if type(x) is int or type(x) is float:\n",
    "        return max(0,x)\n",
    "    elif type(x) is list:\n",
    "        for i in range(len(x)):\n",
    "            x[i]=max(x[i],0)\n",
    "        return x\n",
    "    elif type(x) is np.matrix :\n",
    "        x=np.multiply(x,x>0)\n",
    "        return x"
   ]
  },
  {
   "cell_type": "code",
   "execution_count": 10,
   "metadata": {},
   "outputs": [],
   "source": [
    "def softmax(x):\n",
    "    if type(x) is int or type(x) is float:\n",
    "        return 1\n",
    "    elif type(x) is list:\n",
    "        for i in range(len(x)):\n",
    "            x[i]=np.exp(x[i]) \n",
    "        d=sum(x)\n",
    "        x=[x[i]/d for i in range(len(x))]\n",
    "        return x\n",
    "    elif type(x) is np.matrix or type(x) is np.array:\n",
    "        if type(x) is np.matrix:\n",
    "            ti=0\n",
    "        else:\n",
    "            ti=1\n",
    "        t=[]\n",
    "        if x.shape[1]==1:\n",
    "            for i in range(x.size):\n",
    "                t=t+[np.exp(x[i,0])]\n",
    "            d=sum(t)\n",
    "            t=[t[i]/d for i in range(len(t))]\n",
    "            if ti==0:\n",
    "                return np.matrix(t).T\n",
    "            else:\n",
    "                return np.array(t)\n",
    "        elif x.shape[0]==1:\n",
    "            for i in range(x.size):\n",
    "                t=t+[np.exp(x[0,i])]\n",
    "            d=sum(t)\n",
    "            t=[t[i]/d for i in range(len(t))]\n",
    "            if ti==0:\n",
    "                return np.matrix(t)\n",
    "            else:\n",
    "                return np.array(t)\n",
    "        else:\n",
    "            t=[]\n",
    "            for i in range(x.shape[0]):\n",
    "                tt=[]\n",
    "                for j in range(x.shape[1]):\n",
    "                    tt=tt+[float(np.exp(x[i,j]))]\n",
    "                d=sum(tt)\n",
    "                tt=[i/d for i in tt]\n",
    "                t.append(tt)\n",
    "            return np.matrix(t)"
   ]
  },
  {
   "cell_type": "code",
   "execution_count": 11,
   "metadata": {},
   "outputs": [],
   "source": [
    "def softmax_derivative(x):\n",
    "    if type(x) is int or type(x) is float:\n",
    "        return 0\n",
    "    elif type(x) is list:\n",
    "        x=softmax(x)\n",
    "        for i in range(len(x)):\n",
    "            x[i]=x[i]*(1-x[i])\n",
    "        return x\n",
    "    elif type(x) is np.matrix or type(x) is np.array:\n",
    "        x=softmax(x)\n",
    "        if type(x) is np.matrix:\n",
    "            ti=0\n",
    "        else:\n",
    "            ti=1\n",
    "        t=[]\n",
    "        if x.shape[0]!=1:\n",
    "            for i in range(x.size):\n",
    "                t=t+[x[i,0]*(1-x[i,0])]\n",
    "            if ti==0:\n",
    "                return np.matrix(t).T\n",
    "            else:\n",
    "                return np.array(t)\n",
    "        else:\n",
    "            for i in range(x.size):\n",
    "                t=t+[x[0,i]*(1-x[0,i])]\n",
    "            if ti==0:\n",
    "                return np.matrix(t).T\n",
    "            else:\n",
    "                return np.array(t)"
   ]
  },
  {
   "cell_type": "markdown",
   "metadata": {},
   "source": [
    "# 1st Ans(a)"
   ]
  },
  {
   "cell_type": "markdown",
   "metadata": {},
   "source": [
    "(i)"
   ]
  },
  {
   "cell_type": "code",
   "execution_count": 12,
   "metadata": {},
   "outputs": [
    {
     "name": "stdout",
     "output_type": "stream",
     "text": [
      "Enter learning rate:\n",
      "1\n",
      "enter the no.of iterations for gradient descent\n",
      "200\n",
      "-> Θ =  [[  47.60826087   21.85523937 -233.45084703]]\n"
     ]
    }
   ],
   "source": [
    "import unicodedata\n",
    "aaa=unicodedata.lookup('greek capital letter theta')\n",
    "def logisticregression(trainX,trainy,alpha,iterations):\n",
    "    trainX=np.matrix(trainX.values.tolist())\n",
    "    trainX=np.concatenate((np.ones((trainX.shape[0],1)),trainX),axis=1)\n",
    "    trainy=np.matrix(trainy.values.tolist())\n",
    "    theta=np.matrix([0.1,0.1,0.1])\n",
    "    prevtheta=theta\n",
    "    for i in range(iterations):\n",
    "        j=trainX*theta.T\n",
    "        j=sigmoid(j)\n",
    "        j=j-trainy\n",
    "        j=j.T\n",
    "        theta=theta-alpha*j*trainX\n",
    "    return theta\n",
    "print('Enter learning rate:')\n",
    "alpha=float(input())\n",
    "print('enter the no.of iterations for gradient descent')\n",
    "iterations=int(input())\n",
    "theta=logisticregression(X,ynew,alpha,iterations)\n",
    "print('-> '+aaa+' = ',theta)"
   ]
  },
  {
   "cell_type": "markdown",
   "metadata": {},
   "source": [
    "(ii)"
   ]
  },
  {
   "cell_type": "code",
   "execution_count": 13,
   "metadata": {},
   "outputs": [
    {
     "name": "stdout",
     "output_type": "stream",
     "text": [
      "Accuracy =  100.0 %\n"
     ]
    }
   ],
   "source": [
    "def test(testX,theta):\n",
    "    testX=np.matrix(testX.values.tolist())\n",
    "    testX=np.concatenate((np.ones((testX.shape[0],1)),testX),axis=1)\n",
    "    j=testX*theta.T\n",
    "    j=sigmoid(j)\n",
    "    for i in range(j.size):\n",
    "        if j[i,0]>=0.5:\n",
    "            j[i,0]=1\n",
    "        else:\n",
    "            j[i,0]=0\n",
    "    preds=[int(j[i,0]) for i in range(j.size)]\n",
    "    return j\n",
    "preds=test(X,theta)\n",
    "print('Accuracy = ',accuracy_score(preds,ynew)*100,'%')"
   ]
  },
  {
   "cell_type": "markdown",
   "metadata": {},
   "source": [
    "(iii)"
   ]
  },
  {
   "cell_type": "code",
   "execution_count": 15,
   "metadata": {},
   "outputs": [
    {
     "data": {
      "text/plain": [
       "Text(0.5,1,'Decision surface: for logistic regression learnt using Iris data')"
      ]
     },
     "execution_count": 15,
     "metadata": {},
     "output_type": "execute_result"
    },
    {
     "data": {
      "image/png": "[encoded data removed]",
      "text/plain": [
       "<Figure size 576x504 with 1 Axes>"
      ]
     },
     "metadata": {
      "needs_background": "light"
     },
     "output_type": "display_data"
    }
   ],
   "source": [
    "theta=logisticregression(X,ynew,alpha,iterations)\n",
    "axes = plt.gca()\n",
    "plt.rcParams[\"figure.figsize\"] = [8,7]\n",
    "axes.scatter(X['sepal length'], X['petal width'], c = c, zorder=10, cmap =cm.Paired, edgecolors='k', alpha=1, s=75,label='non-setosa')\n",
    "x_min = X['sepal length'].min()-1\n",
    "x_max = X['sepal length'].max()+1\n",
    "y_min = X['petal width'].min()-1\n",
    "y_max = X['petal width'].max()+1\n",
    "XX, YY = np.mgrid[x_min:x_max:200j, y_min:y_max:200j]\n",
    "new_df2=pd.DataFrame({'f1':list(XX.ravel()),'f2':list(YY.ravel())})\n",
    "Z=np.array(test(new_df2,theta))\n",
    "Z = Z.reshape(XX.shape)\n",
    "plt.xlim([4,8.1])\n",
    "plt.ylim([-0.2,3.0])\n",
    "axes.pcolormesh(XX, YY, Z > 0, cmap=plt.cm.Paired, alpha=0.3)\n",
    "axes.contour(XX, YY, Z, colors=['k'],linestyles=['-'])\n",
    "axes.set_xlabel(\"sepal length\")\n",
    "axes.legend()\n",
    "axes.set_ylabel(\"petal width\")\n",
    "axes.set_title('Decision surface: for logistic regression learnt using Iris data')"
   ]
  },
  {
   "cell_type": "markdown",
   "metadata": {},
   "source": [
    "(iv)"
   ]
  },
  {
   "cell_type": "code",
   "execution_count": 16,
   "metadata": {
    "scrolled": false
   },
   "outputs": [
    {
     "name": "stdout",
     "output_type": "stream",
     "text": [
      "Accuracy using sklearn logistic regression is =  1.0\n"
     ]
    },
    {
     "name": "stderr",
     "output_type": "stream",
     "text": [
      "C:\\Users\\rendl\\Anaconda2\\envs\\py36\\lib\\site-packages\\sklearn\\linear_model\\logistic.py:433: FutureWarning: Default solver will be changed to 'lbfgs' in 0.22. Specify a solver to silence this warning.\n",
      "  FutureWarning)\n",
      "C:\\Users\\rendl\\Anaconda2\\envs\\py36\\lib\\site-packages\\sklearn\\utils\\validation.py:761: DataConversionWarning: A column-vector y was passed when a 1d array was expected. Please change the shape of y to (n_samples, ), for example using ravel().\n",
      "  y = column_or_1d(y, warn=True)\n"
     ]
    }
   ],
   "source": [
    "clf=LogisticRegression(random_state=0).fit(X,ynew)\n",
    "acc=accuracy_score(list(clf.predict(X)),ynew)\n",
    "print('Accuracy using sklearn logistic regression is = ',acc)"
   ]
  },
  {
   "cell_type": "code",
   "execution_count": 17,
   "metadata": {
    "scrolled": true
   },
   "outputs": [
    {
     "data": {
      "text/plain": [
       "Text(0.5,1,\"Decision surface: learnt using sklearn's  LogisticRegression model \")"
      ]
     },
     "execution_count": 17,
     "metadata": {},
     "output_type": "execute_result"
    },
    {
     "data": {
      "image/png": "[encoded data removed]",
      "text/plain": [
       "<Figure size 576x504 with 1 Axes>"
      ]
     },
     "metadata": {
      "needs_background": "light"
     },
     "output_type": "display_data"
    }
   ],
   "source": [
    "# theta=logisticregression(X,ynew,alpha,iterations)\n",
    "axes = plt.gca()\n",
    "plt.rcParams[\"figure.figsize\"] = [8,7]\n",
    "axes.scatter(X['sepal length'], X['petal width'], c = c, zorder=10, cmap =cm.Paired, edgecolors='k', alpha=1, s=75,label='non-setosa')\n",
    "x_min = X['sepal length'].min()-1\n",
    "x_max = X['sepal length'].max()+1\n",
    "y_min = X['petal width'].min()-1\n",
    "y_max = X['petal width'].max()+1\n",
    "XX, YY = np.mgrid[x_min:x_max:200j, y_min:y_max:200j]\n",
    "new_df2=pd.DataFrame({'f1':list(XX.ravel()),'f2':list(YY.ravel())})\n",
    "Z=clf.predict(new_df2)\n",
    "Z = Z.reshape(XX.shape)\n",
    "plt.xlim([4,8.1])\n",
    "plt.ylim([-0.2,3.0])\n",
    "axes.pcolormesh(XX, YY, Z > 0, cmap=plt.cm.Paired, alpha=0.6)\n",
    "axes.contour(XX, YY, Z, colors=['k'],linestyles=['-'])\n",
    "axes.set_xlabel(\"sepal length\")\n",
    "axes.set_ylabel(\"petal width\")\n",
    "axes.legend()\n",
    "# print(clf.coef_)\n",
    "axes.set_title('Decision surface: learnt using sklearn\\'s  LogisticRegression model ')"
   ]
  },
  {
   "cell_type": "markdown",
   "metadata": {},
   "source": [
    "Both the boundaries were almost similar and the accuracy is same for both the models. Hence both the models were working almost same"
   ]
  },
  {
   "cell_type": "markdown",
   "metadata": {},
   "source": [
    "# (b)"
   ]
  },
  {
   "cell_type": "code",
   "execution_count": 18,
   "metadata": {},
   "outputs": [],
   "source": [
    "class neuralnet():\n",
    "    def __init__(self,X,y,hidden_list,actv_list,cost_func):\n",
    "        self.data=np.matrix(X)\n",
    "        self.output=np.matrix(y)\n",
    "        self.layers=hidden_list\n",
    "        self.activations=actv_list\n",
    "        self.loss=cost_func\n",
    "        self.get_wts(self.layers)\n",
    "    def get_wts(self,layers):\n",
    "        np.random.seed(7)\n",
    "        start=self.data.shape[1]\n",
    "        self.weights=[]\n",
    "        self.biases=[]\n",
    "        for i in range(len(layers)):\n",
    "#             einit=(6/(start+layers[i]))**0.5\n",
    "#             t=(np.random.random([start,layers[i]])*2*einit-einit).tolist()\n",
    "            t=np.random.random([start,layers[i]])\n",
    "            self.weights.append(t)\n",
    "#             t2=(np.random.random(layers[i])*2*einit-einit).tolist()\n",
    "#             t2=np.random.random(layers[i])\n",
    "            self.biases.append(1)\n",
    "            start=layers[i]\n",
    "    def activate(self,function,mat):\n",
    "        if function.lower()=='sigmoid':\n",
    "            for i in range(mat.shape[0]):\n",
    "                for j in range(mat.shape[1]):\n",
    "                    mat[i,j]=sigmoid(float(mat[i,j]))\n",
    "        elif function.lower()=='relu':\n",
    "            return relu(mat)\n",
    "        elif function.lower()=='linear':\n",
    "            return mat\n",
    "        elif function.lower()=='softmax':\n",
    "            return softmax(mat)\n",
    "        return mat\n",
    "    def forward(self,sample): #sample is row \n",
    "        z=[]\n",
    "        output=0\n",
    "        X=sample\n",
    "        actvions=[sample]\n",
    "        for i in range(len(self.activations)):\n",
    "            output=X*np.matrix(self.weights[i])+self.biases[i]\n",
    "            z=z+[output]\n",
    "            output=self.activate(self.activations[i],output)\n",
    "            actvions=actvions+[output]\n",
    "            X=output\n",
    "        return X,z,actvions\n",
    "    def derivative(self,arr,activateer):\n",
    "        if activateer.lower()=='sigmoid':\n",
    "            return sigmoid_derivative(arr)\n",
    "        elif activateer.lower()=='relu':\n",
    "            return relu_derivative(arr)\n",
    "        elif activateer.lower()=='linear':\n",
    "            return linear_derivative(arr)\n",
    "        elif activateer.lower()=='softmax':\n",
    "            return softmax_derivative(arr)\n",
    "    def makecapdels(self,smalldels,activions):\n",
    "        capdel=[]\n",
    "        for i in range(len(self.weights)):\n",
    "            capdel.append((smalldels[i]*activions[i]).T)\n",
    "#             print(capdel[-1].shape)\n",
    "        return capdel\n",
    "    def backward(self,yhat,z,activions,actual):#yhat is row of output and z is from forward\n",
    "        smldels=[(yhat-actual).T]\n",
    "        for i in range(len(self.layers)-2,-1,-1):\n",
    "#             print('backward',i)\n",
    "            tdel=np.matrix(self.weights[i+1])*smldels[0]\n",
    "#             print(tdel.shape)\n",
    "            tdel2=self.derivative(z[i],self.activations[i]).T\n",
    "            xx=np.multiply(tdel,tdel2)\n",
    "#             print(xx.shape)\n",
    "            smldels=[xx]+smldels\n",
    "        return self.makecapdels(smldels,activions)\n",
    "    def gdescent(self,alpha,acc_for):\n",
    "#         for i in range(epochs):\n",
    "        for j in range(self.data.shape[0]):\n",
    "            sample=self.data[j]\n",
    "#             print(sample.shape)\n",
    "            ans=self.forward(sample)\n",
    "#             print(ans[0].shape)\n",
    "            if acc_for=='regression':\n",
    "                ans2=self.backward(ans[0],ans[1],ans[2],self.output[0,j])\n",
    "            elif acc_for.lower() =='classification':\n",
    "#                 for i in range(ans[0].shape[1]):\n",
    "#                     if i==np.argmax(ans[0]):\n",
    "#                         ans[0][0,i]=1\n",
    "#                     else:\n",
    "#                         ans[0][0,i]=0\n",
    "                ans2=self.backward(ans[0],ans[1],ans[2],self.output[j])\n",
    "            for k in range(len(ans2)):\n",
    "#                 print(type(self.weights[k]))\n",
    "                self.weights[k]=(np.matrix(self.weights[k])-ans2[k]*alpha).tolist()\n",
    "    def predict(self,testX,acc_for):\n",
    "        X=np.matrix(testX)\n",
    "#         print(X.shape)\n",
    "#         y=np.matrix(testy)\n",
    "        output=0\n",
    "        for i in range(len(self.activations)):\n",
    "            output=X*np.matrix(self.weights[i])+self.biases[i]\n",
    "            output=self.activate(self.activations[i],output)\n",
    "            X=output\n",
    "#         print('output shape',X.shape)\n",
    "        return X\n",
    "    def acc_reporter(self,a,b,acc_type):\n",
    "        if acc_type.lower()=='rmse':\n",
    "            return float(np.square(a-b).mean())**0.5\n",
    "        elif acc_type.lower()=='mae':\n",
    "            return float(np.absolute(a-b).mean())\n",
    "    def fit(self,valX,valy,testX,testy,epochs,alpha,acc_for):\n",
    "        if acc_for.lower()=='regression':\n",
    "            return self.fitr(valX,valy,testX,testy,epochs,alpha,acc_for)\n",
    "        elif acc_for.lower()=='classification':\n",
    "            return self.fitc(valX,valy,testX,testy,epochs,alpha,acc_for)\n",
    "    def fitc(self,valX,valy,testX,testy,epochs,alpha,acc_for):\n",
    "        valy=np.matrix(valy)\n",
    "        accs=[]\n",
    "        taccs=[]\n",
    "        for i in range(epochs):\n",
    "            self.gdescent(alpha,acc_for)\n",
    "            output=self.predict(valX,acc_for)\n",
    "            acc=0\n",
    "            for j in range(output.shape[0]):\n",
    "                dd=output[j]\n",
    "                t=np.argmax(dd)\n",
    "                t2=np.argmax(valy[j])\n",
    "                if t==t2:\n",
    "                    acc+=1\n",
    "#                 print('printing image labels',t,t2)\n",
    "            accs+=[(acc/output.shape[0])*100]\n",
    "            output=self.predict(testX,acc_for)\n",
    "            acc=0\n",
    "            for j in range(output.shape[0]):\n",
    "                dd=output[j]\n",
    "                t=np.argmax(dd)\n",
    "                t2=np.argmax(testy[j])\n",
    "                if t==t2:\n",
    "                    acc+=1\n",
    "            taccs+=[(acc/output.shape[0])*100]\n",
    "        ind=np.argmin(np.array(accs))\n",
    "        print('Validation accuracy : ',accs[ind])\n",
    "        print('test accuracy : ',taccs[ind])\n",
    "    def fitr(self,valX,valy,testX,testy,epochs,alpha,acc_for):\n",
    "        valrmse=[]\n",
    "        valmae=[]\n",
    "        testrmse=[]\n",
    "        testmae=[]\n",
    "        for i in range(epochs):\n",
    "            self.gdescent(alpha,acc_for)\n",
    "            output=self.predict(valX,acc_for)\n",
    "            valrmse+=[self.acc_reporter(output,valy,'rmse')]\n",
    "            valmae+=[self.acc_reporter(output,valy,'mae')]\n",
    "            output=self.predict(testX,acc_for)\n",
    "            testrmse+=[self.acc_reporter(output,valy,'rmse')]\n",
    "            valmae+=[self.acc_reporter(output,valy,'mae')]\n",
    "            output=self.predict(testX,acc_for)\n",
    "        ind=np.argmin(np.array(valrmse))\n",
    "        print('Validation errors : rmse-> ',valrmse[ind],'  mae-> ',valmae[ind])\n",
    "        print('test errors : rmse-> ',testrmse[ind],'  mae-> ',valmae[ind])\n",
    "#         print(valrmse)\n",
    "#         print(testrmse)\n",
    "#         print('test error = ',testerr[ind])"
   ]
  },
  {
   "cell_type": "markdown",
   "metadata": {},
   "source": [
    "# (c)"
   ]
  },
  {
   "cell_type": "markdown",
   "metadata": {},
   "source": [
    "(ii)"
   ]
  },
  {
   "cell_type": "code",
   "execution_count": 19,
   "metadata": {},
   "outputs": [],
   "source": [
    "realestate=pd.read_csv('Real estate valuation data set.csv')"
   ]
  },
  {
   "cell_type": "code",
   "execution_count": 20,
   "metadata": {},
   "outputs": [],
   "source": [
    "realestate.head()\n",
    "realy=realestate['Y house price of unit area']\n",
    "realX=realestate[['X2 house age','X3 distance to the nearest MRT station','X4 number of convenience stores','X5 latitude','X6 longitude']]\n",
    "trainestX,estX,trainesty,esty=train_test_split(realX,realy,test_size=0.5,random_state=7)\n",
    "valestX,testestX,valesty,testesty=train_test_split(estX,esty,test_size=0.6,random_state=7)"
   ]
  },
  {
   "cell_type": "markdown",
   "metadata": {},
   "source": [
    "Converting all dataframes to list of lists"
   ]
  },
  {
   "cell_type": "code",
   "execution_count": 21,
   "metadata": {},
   "outputs": [],
   "source": [
    "trainestX=trainestX.values.tolist()\n",
    "trainesty=trainesty.values.tolist()\n",
    "testestX=testestX.values.tolist()\n",
    "testesty=testesty.values.tolist()\n",
    "valestX=valestX.values.tolist()\n",
    "valesty=valesty.values.tolist()"
   ]
  },
  {
   "cell_type": "code",
   "execution_count": 22,
   "metadata": {},
   "outputs": [],
   "source": [
    "a=neuralnet(trainestX,trainesty,[10,8,5,1],actv_list=['sigmoid','sigmoid','sigmoid','relu'],cost_func='square_sum')"
   ]
  },
  {
   "cell_type": "code",
   "execution_count": 23,
   "metadata": {
    "scrolled": false
   },
   "outputs": [
    {
     "name": "stdout",
     "output_type": "stream",
     "text": [
      "Validation errors : rmse->  15.450642475689822   mae->  11.258478850608867\n",
      "test errors : rmse->  15.450642475689822   mae->  11.258478850608867\n"
     ]
    }
   ],
   "source": [
    "a.fit(valestX,valesty,testestX,testesty,15,0.01,'regression')"
   ]
  },
  {
   "cell_type": "markdown",
   "metadata": {},
   "source": [
    "(i)"
   ]
  },
  {
   "cell_type": "code",
   "execution_count": 58,
   "metadata": {},
   "outputs": [],
   "source": [
    "from mnist import MNIST\n",
    "mndata = MNIST('samples')\n",
    "images, labels = mndata.load_training()\n",
    "testim,testlbl=mndata.load_testing()"
   ]
  },
  {
   "cell_type": "markdown",
   "metadata": {},
   "source": [
    "For train test split according to given question"
   ]
  },
  {
   "cell_type": "code",
   "execution_count": 59,
   "metadata": {},
   "outputs": [],
   "source": [
    "testim=testim+images[35000:]\n",
    "testlbl=testlbl+labels[35000:]\n",
    "images=images[:35000]\n",
    "labels=labels[:35000]"
   ]
  },
  {
   "cell_type": "code",
   "execution_count": 60,
   "metadata": {},
   "outputs": [],
   "source": [
    "mn_y=[]\n",
    "for i in labels:\n",
    "    d=[0]*10\n",
    "    d[i]=1\n",
    "    mn_y.append(d)\n",
    "mn_ty=[]\n",
    "for i in testlbl:\n",
    "    d=[0]*10\n",
    "    d[i]=1\n",
    "    mn_ty.append(d)"
   ]
  },
  {
   "cell_type": "code",
   "execution_count": 61,
   "metadata": {},
   "outputs": [],
   "source": [
    "valim=testim[:14000]\n",
    "vallbl=mn_ty[:14000]\n",
    "testim=testim[14000:]\n",
    "testlbl=mn_ty[14000:]"
   ]
  },
  {
   "cell_type": "code",
   "execution_count": 73,
   "metadata": {},
   "outputs": [],
   "source": [
    "a=neuralnet(X=images,y=mn_y,actv_list=['sigmoid','softmax'],hidden_list=[100,10],cost_func='square_sum')"
   ]
  },
  {
   "cell_type": "code",
   "execution_count": 74,
   "metadata": {},
   "outputs": [
    {
     "name": "stdout",
     "output_type": "stream",
     "text": [
      "Validation accuracy :  86.8\n",
      "test accuracy :  86.22380952380952\n"
     ]
    }
   ],
   "source": [
    "a.fit(acc_for='classification',alpha=0.01,epochs=2,testX=testim,testy=testlbl,valX=valim,valy=vallbl)"
   ]
  }
 ],
 "metadata": {
  "kernelspec": {
   "display_name": "Python 3",
   "language": "python",
   "name": "python3"
  },
  "language_info": {
   "codemirror_mode": {
    "name": "ipython",
    "version": 3
   },
   "file_extension": ".py",
   "mimetype": "text/x-python",
   "name": "python",
   "nbconvert_exporter": "python",
   "pygments_lexer": "ipython3",
   "version": "3.6.8"
  }
 },
 "nbformat": 4,
 "nbformat_minor": 2
}
